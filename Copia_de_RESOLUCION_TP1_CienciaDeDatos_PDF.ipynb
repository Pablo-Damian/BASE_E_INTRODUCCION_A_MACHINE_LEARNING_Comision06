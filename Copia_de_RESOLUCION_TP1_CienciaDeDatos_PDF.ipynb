{
  "cells": [
    {
      "cell_type": "markdown",
      "metadata": {
        "id": "view-in-github",
        "colab_type": "text"
      },
      "source": [
        "<a href=\"https://colab.research.google.com/github/Pablo-Damian/BASE_E_INTRODUCCION_A_MACHINE_LEARNING_Comision06/blob/main/Copia_de_RESOLUCION_TP1_CienciaDeDatos_PDF.ipynb\" target=\"_parent\"><img src=\"https://colab.research.google.com/assets/colab-badge.svg\" alt=\"Open In Colab\"/></a>"
      ]
    },
    {
      "cell_type": "markdown",
      "metadata": {
        "id": "2X7U2w7IebLm"
      },
      "source": [
        "# Trabajo Practico N1\n",
        "# Introduction al Dessarrollo en Python"
      ]
    },
    {
      "cell_type": "markdown",
      "metadata": {
        "id": "kwBfCKCRNyxc"
      },
      "source": [
        "**EJERCICIO 1**\n",
        "\n",
        "Determinar si un numero ingresado por el usuario es PAR"
      ]
    },
    {
      "cell_type": "code",
      "source": [
        "numero = input(\"Por favor ingresa un número entero válido: \")\n",
        "\n",
        "# Se intenta convertir el input a un número entero\n",
        "try:\n",
        "    numero = int(numero)\n",
        "    if numero % 2 == 0: # Se utiliza el operador de módulo (%) para obtener el residuo de la división\n",
        "        print(\"El número:\", numero, \"es PAR.\") # Si el residuo es cero, el número es divisible por 2 y es PAR\n",
        "    else:\n",
        "        print(\"El número:\", numero, \"es IMPAR.\") # Si no es cero, entonces el número no es divisible por 2 y es IMPAR\n",
        "except ValueError:\n",
        "    print(\"Recuerda ingresar un número entero válido.\") # En caso de no ser un \"entero válido\" muestra el mensaje en vez del error"
      ],
      "metadata": {
        "colab": {
          "base_uri": "https://localhost:8080/"
        },
        "id": "jSpG4M8hZ3A_",
        "outputId": "1ce04b20-9e63-4766-d20e-454bfd52d6ff"
      },
      "execution_count": 4,
      "outputs": [
        {
          "output_type": "stream",
          "name": "stdout",
          "text": [
            "Por favor ingresa un número entero válido: 12\n",
            "El número: 12 es PAR.\n"
          ]
        }
      ]
    },
    {
      "cell_type": "markdown",
      "metadata": {
        "id": "3C51NfdL3s17"
      },
      "source": []
    },
    {
      "cell_type": "markdown",
      "metadata": {
        "id": "KKY6JsexOCUy"
      },
      "source": [
        "**EJERCICIO 2**\n",
        "\n",
        "Determinar si un numero ingresado por el usuario esta DENTRO DEL RANGO [1,10] y es par. MUESTRE UN MENSAJE EN CASO CONTRARIO 'NÚMERO FUERA DEL RANGO'"
      ]
    },
    {
      "cell_type": "code",
      "source": [
        "numero = input(\"Por favor ingresa un número entero válido y dentro del rango (1 al 10): \")\n",
        "\n",
        "try:\n",
        "    numero = int(numero)\n",
        "\n",
        "    if 1 <= numero <= 10: # Verifica si el número está dentro del rango [1, 10]\n",
        "        if numero % 2 == 0:\n",
        "            print(\"El número:\", numero, \"es PAR y está dentro del rango (1 al 10).\")\n",
        "        else:\n",
        "            print(\"El número:\", numero, \"es IMPAR, pero está dentro del rango (1 al 10).\")\n",
        "    else:\n",
        "        print(\"EL NÚMERO ESTÁ FUERA DEL RANGO (1 al 10).\")\n",
        "\n",
        "except ValueError:\n",
        "    print(\"Recuerda ingresar un número entero válido y dentro del rango (1 al 10).\")"
      ],
      "metadata": {
        "colab": {
          "base_uri": "https://localhost:8080/"
        },
        "id": "C_G4KmhFbq5U",
        "outputId": "795da9dd-171a-465d-8570-32e02ca8d7bf"
      },
      "execution_count": 5,
      "outputs": [
        {
          "output_type": "stream",
          "name": "stdout",
          "text": [
            "Por favor ingresa un número entero válido y dentro del rango (1 al 10): 8\n",
            "El número: 8 es PAR y está dentro del rango (1 al 10).\n"
          ]
        }
      ]
    },
    {
      "cell_type": "markdown",
      "metadata": {
        "id": "cfitfYKpQK2O"
      },
      "source": [
        "**EJERCICIO 3 CICLO FOR**\n",
        "\n",
        "\n",
        "Solicitar al usuario que ingrese 10 números. Calcule la suma de todos los números ingresados y  cuente cuántos de ellos son par.\n"
      ]
    },
    {
      "cell_type": "code",
      "source": [
        "numeros = [] # Se crea una \"lista vacía\" para almacenar los números que ingresa el usuario\n",
        "contadorPares = 0 # Se inicializa la variable para contar los números pares\n",
        "# Ciclo FOR para pedir al usuario que ingrese los 10 números\n",
        "for i in range(10):\n",
        "    try:\n",
        "        numero = int(input(f\"Ingrese el número {i+1}: \"))\n",
        "        numeros.append(numero) # Se agrega el número a la lista 'numeros'\n",
        "        if numero % 2 == 0:\n",
        "            contadorPares += 1 # Se incrementa el contador si el número es par\n",
        "    except ValueError:\n",
        "        print(\"Error: Debes ingresar un número entero válido.\")\n",
        "\n",
        "sumaTotal = sum(numeros)  # Se calcula la suma total de los números ingresados y se almacena en 'sumaTotal'\n",
        "\n",
        "print(\"La suma total de los números ingresados es:\", sumaTotal)\n",
        "print(\"La cantidad de números pares ingresados es5:\", contadorPares)"
      ],
      "metadata": {
        "colab": {
          "base_uri": "https://localhost:8080/"
        },
        "id": "dZQ5CbDnfagz",
        "outputId": "3dd295d3-9b2a-496c-a3b2-539b110e0e7c"
      },
      "execution_count": 7,
      "outputs": [
        {
          "output_type": "stream",
          "name": "stdout",
          "text": [
            "Ingrese el número 1: 1\n",
            "Ingrese el número 2: 2\n",
            "Ingrese el número 3: 3\n",
            "Ingrese el número 4: 4\n",
            "Ingrese el número 5: 5\n",
            "Ingrese el número 6: 6\n",
            "Ingrese el número 7: 7\n",
            "Ingrese el número 8: 8\n",
            "Ingrese el número 9: 9\n",
            "Ingrese el número 10: 0\n",
            "La suma total de los números ingresados es: 45\n",
            "La cantidad de números pares ingresados es: 5\n"
          ]
        }
      ]
    },
    {
      "cell_type": "markdown",
      "metadata": {
        "id": "7YyBaMyyRh7I"
      },
      "source": [
        "**EJERCICIOS 4**\n",
        "\n",
        "Mostrar todos los números presentes en el rango [56,1230]\n",
        "Solicitar al usuario que ingrese el rango [a,b] y muestre todos los números pertenecientes a él."
      ]
    },
    {
      "cell_type": "code",
      "source": [
        "# Se muestran los primeros y últimos 5 números del rango [56, 1230] para reducir la salida del código\n",
        "for numero in range(56, 61):\n",
        "    print(numero, end=\", \")\n",
        "\n",
        "# El rango se separa con tres puntos (...)\n",
        "print(\"...\", end=\" \")\n",
        "\n",
        "for numero in range(1226, 1231):\n",
        "    if numero == 1230:\n",
        "        print(numero, end=\"\")\n",
        "    else:\n",
        "        print(numero, end=\", \")\n",
        "\n",
        "print()  # Se agrega una \"línea vacía\" para el salto de línea\n",
        "#####\n",
        "# Se le solicita al usuario que ingrese el rango [a, b]\n",
        "a = int(input(\"Ingresar el valor de 'a' (para el inicio del rango): \"))\n",
        "b = int(input(\"Ingresar el valor de 'b' (para el fin del rango): \"))\n",
        "\n",
        "# Asegurarse de que 'a' sea menor o igual que 'b'\n",
        "if a > b:\n",
        "    a, b = b, a\n",
        "\n",
        "print(f\"Los números del rango [{a}, {b}] son:\")\n",
        "\n",
        "# Mostrar todos los números en el rango [a, b]\n",
        "for numero in range(a, b+1):\n",
        "    print(numero)"
      ],
      "metadata": {
        "colab": {
          "base_uri": "https://localhost:8080/"
        },
        "id": "i6p15wPJgK44",
        "outputId": "d195fe22-1909-4aea-ab68-bb2cad00e86d"
      },
      "execution_count": 9,
      "outputs": [
        {
          "output_type": "stream",
          "name": "stdout",
          "text": [
            "56, 57, 58, 59, 60, ... 1226, 1227, 1228, 1229, 1230\n",
            "Ingresar el valor de 'a' (para el inicio del rango): 0\n",
            "Ingresar el valor de 'b' (para el fin del rango): 9\n",
            "Los números del rango [0, 9] son:\n",
            "0\n",
            "1\n",
            "2\n",
            "3\n",
            "4\n",
            "5\n",
            "6\n",
            "7\n",
            "8\n",
            "9\n"
          ]
        }
      ]
    },
    {
      "cell_type": "markdown",
      "metadata": {
        "id": "sCYdUm5DOpPk"
      },
      "source": [
        "**EJERCICIO 5 CICLO WHILE**\n",
        "\n",
        "Solicitar al usuario que ingrese un número, si es negativo o nulo , solicitar reiteradamente hasta que ingrese un numero positivo."
      ]
    },
    {
      "cell_type": "markdown",
      "metadata": {
        "id": "yxB31mqka2i3"
      },
      "source": [
        "chicos, si ingresan un dato nulo (vacio), debo usar un while para que vuelva a pedir lo mismo, pero si es un dato no nulo pasa y el valor lo transfomamos en entero,\n",
        "y comparamos si es positivo. Si no lo es hay que pedir otro dato, pero puede ser nulo, entonces habría que hacer todo de nuevo. Por eso llamo en el  **else** a la funcion  **positivo**, para que inicie todo de nuevo.\n",
        "recuerden que para ejecutar una funcion hay que llamarla con su nombre y parentesis. Ejemplo: positivo()"
      ]
    },
    {
      "cell_type": "code",
      "source": [
        "def positivo():\n",
        "    while True:\n",
        "        numero = input(\"Ingresa un número: \")\n",
        "\n",
        "        # Se verifica si el número es negativo o nulo\n",
        "        if not numero:\n",
        "            print(\"Debes ingresar un número.\")\n",
        "        else:\n",
        "            numero = int(numero)\n",
        "            if numero <= 0:\n",
        "                print(\"Debes ingresar un número positivo.\")\n",
        "            else:\n",
        "                print(\"Gracias por ingresar un número correcto.\")\n",
        "                break\n",
        "\n",
        "positivo()"
      ],
      "metadata": {
        "colab": {
          "base_uri": "https://localhost:8080/"
        },
        "id": "zyCC0DrYrt8s",
        "outputId": "47fdf17b-6a6e-4fa2-cd9a-5a5c88e5c58c"
      },
      "execution_count": 11,
      "outputs": [
        {
          "output_type": "stream",
          "name": "stdout",
          "text": [
            "Ingresa un número: \n",
            "Debes ingresar un número.\n",
            "Ingresa un número: 0\n",
            "Debes ingresar un número positivo.\n",
            "Ingresa un número: -1\n",
            "Debes ingresar un número positivo.\n",
            "Ingresa un número: 2\n",
            "Gracias por ingresar un número correcto.\n"
          ]
        }
      ]
    },
    {
      "cell_type": "markdown",
      "metadata": {
        "id": "Snkm3EDCSb6n"
      },
      "source": [
        "**EJERCICIO 6**\n",
        "\n",
        "Solicitar al usuario que ingrese un número, si el número es positivo , solicitar reiteradamente hasta que ingrese un numero negativo. Luego mostrar dicho número si es par, en caso contrario mostrar un mensaje 'número ingresado impar'."
      ]
    },
    {
      "cell_type": "code",
      "source": [
        "def esPar(numero):\n",
        "    if numero % 2 == 0:\n",
        "        return True\n",
        "    else:\n",
        "        return False\n",
        "\n",
        "while True:\n",
        "    numero = int(input(\"Ingresar un número: \"))\n",
        "\n",
        "    if numero > 0:\n",
        "        print(\"El número es positivo, hay que ingresar otro número.\")\n",
        "    elif numero < 0:\n",
        "        if esPar(numero):\n",
        "            print(f\"El número {numero} es PAR.\")\n",
        "        else:\n",
        "            print(f\"El número {numero} es IMPAR.\")\n",
        "        break\n",
        "    else:\n",
        "        print(\"Número nulo, hay que ingresar un número negativo.\")"
      ],
      "metadata": {
        "colab": {
          "base_uri": "https://localhost:8080/"
        },
        "id": "41w43iMQtoJ-",
        "outputId": "feb314f4-8cd2-4a0f-c44b-5b6a67a8d02e"
      },
      "execution_count": 12,
      "outputs": [
        {
          "output_type": "stream",
          "name": "stdout",
          "text": [
            "Ingresar un número: 0\n",
            "Número nulo, hay que ingresar un número negativo.\n",
            "Ingresar un número: 1\n",
            "El número es positivo, hay que ingresar otro número.\n",
            "Ingresar un número: -1\n",
            "El número -1 es IMPAR.\n"
          ]
        }
      ]
    },
    {
      "cell_type": "markdown",
      "metadata": {
        "id": "sypNigFYS3iU"
      },
      "source": [
        "**EJERCICIO 7 VECTORES CON CICLO FOR**\n",
        "\n",
        "Solicitar al usuario que ingrese la cantidad de elementos del vector.\n",
        "Ingresar cada elemento del vector y calcular su promedio.AYUDA: EL PROMEDIO ES LA SUMA DE TODOS LOS NÚMEROS DIVIDO LA CANTIDAD TOTAL.\n",
        "Mostrar el vector."
      ]
    },
    {
      "cell_type": "code",
      "source": [
        "# Se le solicita al usuario que ingrese la cantidad de elementos del vector\n",
        "elementos = int(input(\"Ingrese la cantidad de elementos del vector: \"))\n",
        "\n",
        "# Se inicializa una lista vacía para almacenar los elementos del vector\n",
        "vector = []\n",
        "\n",
        "# Se ingresa cada elemento del vector y se almacena en la lista\n",
        "for i in range(elementos):\n",
        "    elemento = int(input(f\"Ingrese el elemento {i+1}: \"))\n",
        "    vector.append(elemento)\n",
        "\n",
        "# Se calcula el promedio de los elementos del vector\n",
        "sumaElementos = sum(vector)\n",
        "promedio = sumaElementos / elementos\n",
        "\n",
        "# Finalmente se muestra el vector ingresado por el usuario y su \"promedio\"\n",
        "print(\"El vector ingresado es:\", vector)\n",
        "print(\"El promedio de los elementos del vector es:\", promedio)"
      ],
      "metadata": {
        "colab": {
          "base_uri": "https://localhost:8080/"
        },
        "id": "-4--rShUtwdA",
        "outputId": "52df611b-ce02-49fb-fa23-fb6bb2ff9ed9"
      },
      "execution_count": 13,
      "outputs": [
        {
          "output_type": "stream",
          "name": "stdout",
          "text": [
            "Ingrese la cantidad de elementos del vector: 5\n",
            "Ingrese el elemento 1: 1\n",
            "Ingrese el elemento 2: 2\n",
            "Ingrese el elemento 3: 3\n",
            "Ingrese el elemento 4: 4\n",
            "Ingrese el elemento 5: 5\n",
            "El vector ingresado es: [1, 2, 3, 4, 5]\n",
            "El promedio de los elementos del vector es: 3.0\n"
          ]
        }
      ]
    },
    {
      "cell_type": "markdown",
      "metadata": {
        "id": "W15_ajQyULBo"
      },
      "source": [
        "**EJERCICIO 8 LISTA CON CICLO FOR**\n",
        "\n",
        "Solicitar a 10 usuario que ingresen los siguientes datos en el formato lista.\n",
        "\n",
        "['NOMBRE','APELLIDO', 'DNI','GASTOS MENSUALES DE HOGAR']\n",
        "\n",
        "Ingresar el final de la lista los siguientes usuarios:\n",
        "\n",
        "['ESTEBAN','LOPEZ', '45675400','190800.80']\n",
        "\n",
        "['NOELIA','ALEJA', '46906875','85900.50']\n",
        "\n",
        "Mostrar el vector.\n",
        "Eliminar el primer usuario de la lista."
      ]
    },
    {
      "cell_type": "code",
      "source": [
        "# Se inicializa una lista vacía para almacenar los usuarios\n",
        "usuarios = []\n",
        "\n",
        "# Se solicita que se ingresen los datos de 10 usuarios\n",
        "for i in range(3): # Se modificó a sólo tres usuarios para hacer más rápido el ingreso\n",
        "    print(f\"\\nIngrese los datos del usuario Nº {i+1}:\")\n",
        "    nombre = input(\"Nombre: \")\n",
        "    apellido = input(\"Apellido: \")\n",
        "    dni = input(\"DNI: \")\n",
        "    gastosMensuales = float(input(\"Gastos mensuales de hogar: $\"))\n",
        "\n",
        "    # Se crea la lista de datos del usuario y se la agrega a la lista de usuarios\n",
        "    datosUsuario = [nombre, apellido, dni, gastosMensuales]\n",
        "    usuarios.append(datosUsuario)\n",
        "\n",
        "# Se ingresan los datos de los dos usuarios adicionales\n",
        "usuarios.append(['ESTEBAN', 'LOPEZ', '45675400', 190800.80])\n",
        "usuarios.append(['NOELIA', 'ALEJA', '46906875', 85900.50])\n",
        "\n",
        "# Se muestra la lista completa de usuarios\n",
        "print(\"\\nLa lista de usuarios es:\")\n",
        "for i, usuario in enumerate(usuarios, start=1):\n",
        "    print(f\"Usuario Nº {i}: {usuario}\")\n",
        "\n",
        "# Se elimina el primer usuario de la lista\n",
        "usuarios.pop(0)\n",
        "print(\"\\nSe ha eliminado el primer usuario de la lista.\")\n",
        "\n",
        "# Finalmente se muestra la lista de usuarios después de eliminar el primero\n",
        "print(\"\\nLa lista de usuarios (actualizada) ahora es:\")\n",
        "for i, usuario in enumerate(usuarios, start=1):\n",
        "    print(f\"Usuario Nº {i}: {usuario}\")"
      ],
      "metadata": {
        "colab": {
          "base_uri": "https://localhost:8080/"
        },
        "id": "rAiew712vXZq",
        "outputId": "a01dbeda-93ed-4dcc-a3a5-0bf7d75bce86"
      },
      "execution_count": 15,
      "outputs": [
        {
          "output_type": "stream",
          "name": "stdout",
          "text": [
            "\n",
            "Ingrese los datos del usuario Nº 1:\n",
            "Nombre: A\n",
            "Apellido: AA\n",
            "DNI: 001\n",
            "Gastos mensuales de hogar: $100\n",
            "\n",
            "Ingrese los datos del usuario Nº 2:\n",
            "Nombre: B\n",
            "Apellido: BB\n",
            "DNI: 002\n",
            "Gastos mensuales de hogar: $200\n",
            "\n",
            "Ingrese los datos del usuario Nº 3:\n",
            "Nombre: C\n",
            "Apellido: CC\n",
            "DNI: 003\n",
            "Gastos mensuales de hogar: $300\n",
            "\n",
            "La lista de usuarios es:\n",
            "Usuario Nº 1: ['A', 'AA', '001', 100.0]\n",
            "Usuario Nº 2: ['B', 'BB', '002', 200.0]\n",
            "Usuario Nº 3: ['C', 'CC', '003', 300.0]\n",
            "Usuario Nº 4: ['ESTEBAN', 'LOPEZ', '45675400', 190800.8]\n",
            "Usuario Nº 5: ['NOELIA', 'ALEJA', '46906875', 85900.5]\n",
            "\n",
            "Se ha eliminado el primer usuario de la lista.\n",
            "\n",
            "La lista de usuarios (actualizada) ahora es:\n",
            "Usuario Nº 1: ['B', 'BB', '002', 200.0]\n",
            "Usuario Nº 2: ['C', 'CC', '003', 300.0]\n",
            "Usuario Nº 3: ['ESTEBAN', 'LOPEZ', '45675400', 190800.8]\n",
            "Usuario Nº 4: ['NOELIA', 'ALEJA', '46906875', 85900.5]\n"
          ]
        }
      ]
    },
    {
      "cell_type": "markdown",
      "metadata": {
        "id": "vHZ23eGsrJe-"
      },
      "source": [
        "para probar como funciona cambien en el for el 10 por 2 y ejecuten ingrese los datos que le pidan y al terminar todo vuelvan a poner 10 en el for"
      ]
    },
    {
      "cell_type": "markdown",
      "metadata": {
        "id": "5x1DqNkpTWzi"
      },
      "source": [
        "**EJERCICIO 9 LISTA CON CICLO FOR**\n",
        "\n",
        "Buscar en la web los datos pablacionales de todas las provicias de Argentina , generando una lista con los siguiente información.\n",
        "\n",
        "['PROVINCIA','CANTIDAD DE HABITANTES', 'CONSUMO ELECTRICO PER CAPITA','SUPERFICIE EN M^2']\n",
        "\n",
        "\n",
        "\n",
        "Mostrar TODOS LOS DATOS DEL LISTADO.\n",
        "\n"
      ]
    },
    {
      "cell_type": "code",
      "source": [
        "# Datos \"ficticios\" de todas las provincias (ordenadas alfabéticamente)\n",
        "# ['PROVINCIA','CANTIDAD DE HABITANTES', 'CONSUMO ELECTRICO PER CAPITA','SUPERFICIE EN M^2']\n",
        "datosProvincias = [\n",
        "    ['Buenos Aires', 17500000, 2300, 307571],\n",
        "    ['Catamarca', 400000, 2000, 102602],\n",
        "    ['Chaco', 1100000, 1900, 99633],\n",
        "    ['Chubut', 600000, 2200, 224686],\n",
        "    ['Corrientes', 1100000, 2100, 88199],\n",
        "    ['Córdoba', 3700000, 2400, 165321],\n",
        "    ['Entre Ríos', 1300000, 2000, 78781],\n",
        "    ['Formosa', 600000, 1800, 72066],\n",
        "    ['Jujuy', 750000, 2200, 53219],\n",
        "    ['La Pampa', 370000, 2200, 143440],\n",
        "    ['La Rioja', 390000, 2100, 89680],\n",
        "    ['Mendoza', 2000000, 2100, 148827],\n",
        "    ['Misiones', 1200000, 1800, 29801],\n",
        "    ['Neuquén', 600000, 2400, 94078],\n",
        "    ['Río Negro', 730000, 2300, 203013],\n",
        "    ['Salta', 1200000, 2300, 155488],\n",
        "    ['San Juan', 800000, 2100, 89651],\n",
        "    ['San Luis', 470000, 2100, 76748],\n",
        "    ['Santa Cruz', 340000, 2300, 243943],\n",
        "    ['Santa Fe', 3500000, 2500, 133007],\n",
        "    ['Santiago del Estero', 950000, 2000, 136351],\n",
        "    ['Tierra del Fuego', 160000, 2400, 21597],\n",
        "    ['Tucumán', 1600000, 2200, 22524]\n",
        "]\n",
        "\n",
        "# Se Muestran TODOS LOS DATOS DEL LISTADO (omitiendo la primera entrada)\n",
        "for i, datos in enumerate(datosProvincias, start=1):\n",
        "    print(f\"Provincia {i}: {datos}\")"
      ],
      "metadata": {
        "colab": {
          "base_uri": "https://localhost:8080/"
        },
        "id": "xQsY9_iF0avO",
        "outputId": "a1ee1d49-c029-47ec-975d-35163f79dd3b"
      },
      "execution_count": 17,
      "outputs": [
        {
          "output_type": "stream",
          "name": "stdout",
          "text": [
            "Provincia 1: ['Buenos Aires', 17500000, 2300, 307571]\n",
            "Provincia 2: ['Catamarca', 400000, 2000, 102602]\n",
            "Provincia 3: ['Chaco', 1100000, 1900, 99633]\n",
            "Provincia 4: ['Chubut', 600000, 2200, 224686]\n",
            "Provincia 5: ['Corrientes', 1100000, 2100, 88199]\n",
            "Provincia 6: ['Córdoba', 3700000, 2400, 165321]\n",
            "Provincia 7: ['Entre Ríos', 1300000, 2000, 78781]\n",
            "Provincia 8: ['Formosa', 600000, 1800, 72066]\n",
            "Provincia 9: ['Jujuy', 750000, 2200, 53219]\n",
            "Provincia 10: ['La Pampa', 370000, 2200, 143440]\n",
            "Provincia 11: ['La Rioja', 390000, 2100, 89680]\n",
            "Provincia 12: ['Mendoza', 2000000, 2100, 148827]\n",
            "Provincia 13: ['Misiones', 1200000, 1800, 29801]\n",
            "Provincia 14: ['Neuquén', 600000, 2400, 94078]\n",
            "Provincia 15: ['Río Negro', 730000, 2300, 203013]\n",
            "Provincia 16: ['Salta', 1200000, 2300, 155488]\n",
            "Provincia 17: ['San Juan', 800000, 2100, 89651]\n",
            "Provincia 18: ['San Luis', 470000, 2100, 76748]\n",
            "Provincia 19: ['Santa Cruz', 340000, 2300, 243943]\n",
            "Provincia 20: ['Santa Fe', 3500000, 2500, 133007]\n",
            "Provincia 21: ['Santiago del Estero', 950000, 2000, 136351]\n",
            "Provincia 22: ['Tierra del Fuego', 160000, 2400, 21597]\n",
            "Provincia 23: ['Tucumán', 1600000, 2200, 22524]\n"
          ]
        }
      ]
    },
    {
      "cell_type": "markdown",
      "metadata": {
        "id": "i-vHT64rNKKA"
      },
      "source": []
    },
    {
      "cell_type": "markdown",
      "metadata": {
        "id": "SVaFh43fTwt3"
      },
      "source": [
        "**EJERCICIO 10 LISTAS**\n",
        "\n",
        "Crear una lista con información de estudianes de un colegio donde incluya los siguientes items:\n",
        "\n",
        "\n",
        "*   curso y división del aula del alumno\n",
        "*   nombre y apellidos\n",
        "*   DNI\n",
        "*   cantidad de notas en el primer trimestre\n",
        "*   INGRESAR CADA UNA DE ESAS NOTAS, POR EL USUARIO\n",
        "*   promedio del trimestre\n",
        "\n",
        "Mostrar todos los nombres y apellidos de los  alumnos\n",
        "Mostrar los alumnos con promedio mayor o igual a 6\n",
        "\n",
        "\n"
      ]
    },
    {
      "cell_type": "code",
      "source": [
        "# Función para calcular el promedio de un estudiante\n",
        "def calcularPromedio(notas):\n",
        "    totalNotas = sum(notas)\n",
        "    return totalNotas / len(notas)\n",
        "\n",
        "# Se crea una lista de estudiantes\n",
        "estudiantes = []\n",
        "\n",
        "# Se solicita la información de cada estudiante\n",
        "numeroEstudiantes = int(input(\"Ingrese la cantidad de estudiantes: \"))\n",
        "\n",
        "for i in range(numeroEstudiantes):\n",
        "    print(f\"\\nIngrese la información del estudiante {i+1}:\")\n",
        "    curso = input(\"Curso y división del aula: \")\n",
        "    nombre = input(\"Nombre: \")\n",
        "    apellidos = input(\"Apellidos: \")\n",
        "    dni = input(\"DNI: \")\n",
        "\n",
        "    numeroNotas = int(input(\"Ingrese la cantidad de notas del primer trimestre: \"))\n",
        "    notas = []\n",
        "    for j in range(numeroNotas):\n",
        "        nota = float(input(f\"Ingrese la nota {j+1}: \"))\n",
        "        notas.append(nota)\n",
        "\n",
        "    promedioTrimestre = calcularPromedio(notas)\n",
        "\n",
        "    # Se agrega la información del estudiante a la lista\n",
        "    estudiante = [curso, nombre, apellidos, dni, notas, promedioTrimestre]\n",
        "    estudiantes.append(estudiante)\n",
        "\n",
        "# Se muestran los nombres y apellidos de todos los estudiantes\n",
        "print(\"\\nNombres y apellidos de los estudiantes:\")\n",
        "for estudiante in estudiantes:\n",
        "    print(f\"{estudiante[1]} {estudiante[2]}\")\n",
        "\n",
        "# Finalmente se muestran los alumnos con promedio mayor o igual a 6\n",
        "print(\"\\nAlumnos con promedio mayor o igual a 6:\")\n",
        "for estudiante in estudiantes:\n",
        "    if estudiante[5] >= 6:\n",
        "        print(f\"{estudiante[1]} {estudiante[2]} - Promedio: {estudiante[5]}\")"
      ],
      "metadata": {
        "colab": {
          "base_uri": "https://localhost:8080/"
        },
        "id": "NDkHIo9P5v4k",
        "outputId": "1142662c-e729-4f86-afd9-6a752276040f"
      },
      "execution_count": 20,
      "outputs": [
        {
          "output_type": "stream",
          "name": "stdout",
          "text": [
            "Ingrese la cantidad de estudiantes: 2\n",
            "\n",
            "Ingrese la información del estudiante 1:\n",
            "Curso y división del aula: 01\n",
            "Nombre: A\n",
            "Apellidos: AA\n",
            "DNI: 001\n",
            "Ingrese la cantidad de notas del primer trimestre: 2\n",
            "Ingrese la nota 1: 7\n",
            "Ingrese la nota 2: 9\n",
            "\n",
            "Ingrese la información del estudiante 2:\n",
            "Curso y división del aula: 02\n",
            "Nombre: B\n",
            "Apellidos: BB\n",
            "DNI: 002\n",
            "Ingrese la cantidad de notas del primer trimestre: 3\n",
            "Ingrese la nota 1: 7\n",
            "Ingrese la nota 2: 9\n",
            "Ingrese la nota 3: 8\n",
            "\n",
            "Nombres y apellidos de los estudiantes:\n",
            "A AA\n",
            "B BB\n",
            "\n",
            "Alumnos con promedio mayor o igual a 6:\n",
            "A AA - Promedio: 8.0\n",
            "B BB - Promedio: 8.0\n"
          ]
        }
      ]
    }
  ],
  "metadata": {
    "colab": {
      "provenance": [],
      "include_colab_link": true
    },
    "kernelspec": {
      "display_name": "Python 3",
      "name": "python3"
    },
    "language_info": {
      "name": "python"
    }
  },
  "nbformat": 4,
  "nbformat_minor": 0
}