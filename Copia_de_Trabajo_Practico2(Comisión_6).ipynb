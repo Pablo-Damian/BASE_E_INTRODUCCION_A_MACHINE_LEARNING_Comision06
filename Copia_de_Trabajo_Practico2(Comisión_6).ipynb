{
  "cells": [
    {
      "cell_type": "markdown",
      "metadata": {
        "id": "view-in-github",
        "colab_type": "text"
      },
      "source": [
        "<a href=\"https://colab.research.google.com/github/Pablo-Damian/BASE_E_INTRODUCCION_A_MACHINE_LEARNING_Comision06/blob/main/Copia_de_Trabajo_Practico2(Comisi%C3%B3n_6).ipynb\" target=\"_parent\"><img src=\"https://colab.research.google.com/assets/colab-badge.svg\" alt=\"Open In Colab\"/></a>"
      ]
    },
    {
      "cell_type": "markdown",
      "metadata": {
        "id": "1qK5hGNp-o6o"
      },
      "source": [
        "# Introducción a NumPy\n",
        "\n",
        "\n",
        "\n",
        "\n",
        "Este Práctico proporciona una introducción básica a NumPy, destacando algunas de sus características clave y mostrando ejemplos de su uso. A continuación tendrán un resúmen de algunos comando y su implementación. Esto servirá de guia para desarrollar las actividades propuestas a continuación."
      ],
      "id": "1qK5hGNp-o6o"
    },
    {
      "cell_type": "markdown",
      "metadata": {
        "id": "EhfjWsse-o6r"
      },
      "source": [
        "## Comparación entre uso de vectores de Python y NumPy\n",
        "A continuación se presentan varios aspectos para poder comparar la implementación de vectores a través del tipo de datos LISTA , comparado con la implementación de vectores con NumPy:"
      ],
      "id": "EhfjWsse-o6r"
    },
    {
      "cell_type": "markdown",
      "metadata": {
        "id": "c294f2JK-o6s"
      },
      "source": [
        "#### 1- Creación de vectores\n",
        "\n",
        "En esta celda, se importa la biblioteca NumPy y se **CREA UN VECTOR** utilizando Python puro y NumPy. Luego, se imprime cada uno de los vectores."
      ],
      "id": "c294f2JK-o6s"
    },
    {
      "cell_type": "code",
      "execution_count": null,
      "metadata": {
        "id": "_HV2dLLF-o6s",
        "colab": {
          "base_uri": "https://localhost:8080/"
        },
        "outputId": "58d1f206-9917-4116-c540-1c5ecd208b72"
      },
      "outputs": [
        {
          "output_type": "stream",
          "name": "stdout",
          "text": [
            "Vector en Python puro: [1, 2, 3, 4, 5]\n",
            "Vector en NumPy: [1.  2.  3.5 4.  5. ]\n"
          ]
        }
      ],
      "source": [
        "import numpy as np\n",
        "vector_py = [1, 2, 3, 4, 5]\n",
        "vector_np = np.array([1, 2, 3.5, 4, 5])\n",
        "print(\"Vector en Python puro:\", vector_py)\n",
        "print(\"Vector en NumPy:\", vector_np)"
      ],
      "id": "_HV2dLLF-o6s"
    },
    {
      "cell_type": "markdown",
      "metadata": {
        "id": "dMFB7By3-o6t"
      },
      "source": [
        "#### 2- Operaciones matemáticas\n",
        "En esta celda, se realizan operaciones matemáticas en un vector utilizando Python puro y NumPy. Luego, se imprime el resultado de cada operación."
      ],
      "id": "dMFB7By3-o6t"
    },
    {
      "cell_type": "code",
      "execution_count": null,
      "metadata": {
        "colab": {
          "base_uri": "https://localhost:8080/"
        },
        "id": "fu-4G2Ut-o6t",
        "outputId": "816b5481-7f26-4aff-f92b-8f928f8e9cd7"
      },
      "outputs": [
        {
          "output_type": "execute_result",
          "data": {
            "text/plain": [
              "[1, 2, 3, 4, 5, 1, 2, 3, 4, 5]"
            ]
          },
          "metadata": {},
          "execution_count": 2
        }
      ],
      "source": [
        "vector_py = [1, 2, 3, 4, 5]\n",
        "vector_np = np.array([1, 2, 3, 4, 5])\n",
        "suma_py = [x + 2 for x in vector_py]\n",
        "suma_np = vector_np *2\n",
        "#print(\"Suma en Python puro:\", suma_py)\n",
        "#print(\"Suma en NumPy:\", suma_np)\n",
        "vector_py*2"
      ],
      "id": "fu-4G2Ut-o6t"
    },
    {
      "cell_type": "markdown",
      "metadata": {
        "id": "zNYiFFjG-o6u"
      },
      "source": [
        "#### 3- Indexado y segmentación\n",
        "En esta celda, se realiza el indexado y segmentación en un vector utilizando Python puro y NumPy. Luego, se imprime el resultado de cada operación."
      ],
      "id": "zNYiFFjG-o6u"
    },
    {
      "cell_type": "code",
      "execution_count": null,
      "metadata": {
        "colab": {
          "base_uri": "https://localhost:8080/"
        },
        "id": "c-PIchEg-o6u",
        "outputId": "acf4b356-844f-46bc-f97e-49a0269d3029"
      },
      "outputs": [
        {
          "output_type": "stream",
          "name": "stdout",
          "text": [
            "Segmento en Python puro: [2, 3, 4]\n",
            "Segmento en NumPy: [2 3 4]\n"
          ]
        }
      ],
      "source": [
        "vector_py = [1, 2, 3, 4, 5]\n",
        "vector_np = np.array([1, 2, 3, 4, 5])\n",
        "segmento_py = vector_py[1:4]\n",
        "segmento_np = vector_np[1:4]\n",
        "print(\"Segmento en Python puro:\", segmento_py)\n",
        "print(\"Segmento en NumPy:\", segmento_np)"
      ],
      "id": "c-PIchEg-o6u"
    },
    {
      "cell_type": "markdown",
      "metadata": {
        "id": "v5GzRhOK-o6v"
      },
      "source": [
        "## Operaciones entre vectores y funciones sobre vectores\n",
        "A continuación se presentan algunos ejemplos de operaciones básicas entre vectores utilizando NumPy:"
      ],
      "id": "v5GzRhOK-o6v"
    },
    {
      "cell_type": "markdown",
      "metadata": {
        "id": "KE93Crg_-o6v"
      },
      "source": [
        "#### Suma de vectores\n",
        "En esta celda, se crea un vector 'vector_a' y un vector 'vector_b', y se realiza la suma de ambos vectores utilizando NumPy. Luego, se imprime el resultado."
      ],
      "id": "KE93Crg_-o6v"
    },
    {
      "cell_type": "code",
      "execution_count": null,
      "metadata": {
        "id": "rAzW3AvC-o6v",
        "colab": {
          "base_uri": "https://localhost:8080/"
        },
        "outputId": "14739bda-3a68-46d4-e706-42a20eff3c22"
      },
      "outputs": [
        {
          "output_type": "stream",
          "name": "stdout",
          "text": [
            "Suma de vectores: [5 7 9]\n"
          ]
        }
      ],
      "source": [
        "vector_a = np.array([1, 2, 3])\n",
        "vector_b = np.array([4, 5, 6])\n",
        "suma_vector = vector_a + vector_b\n",
        "print(\"Suma de vectores:\", suma_vector)"
      ],
      "id": "rAzW3AvC-o6v"
    },
    {
      "cell_type": "markdown",
      "source": [
        "# ***EJERCICIOS PARTE 1***\n",
        "\n",
        "***EJERCICIO 1:***\n",
        "\n",
        "Dada la siguiente tabla (matriz) de datos, donde cada fila representa la cantidad que se vendio en referencia a un solo producto durante toda la semana; mientras que cada columna representa la venta total en un dia de la semana.Obtener la siguiente información detallada:\n",
        "\n",
        "\n",
        "*   Importe total de la venta por cada dia de la semana\n",
        "*   Importe total de la venta por cada producto en la semana\n",
        "*   Importe total de la venta en toda la semana\n",
        "\n"
      ],
      "metadata": {
        "id": "m8wTYxHe6TwA"
      },
      "id": "m8wTYxHe6TwA"
    },
    {
      "cell_type": "code",
      "execution_count": null,
      "metadata": {
        "colab": {
          "base_uri": "https://localhost:8080/"
        },
        "id": "djSElJbA4fVb",
        "outputId": "89c54e3d-3a25-4802-f0db-9a6e1a165eae"
      },
      "outputs": [
        {
          "output_type": "stream",
          "name": "stdout",
          "text": [
            "Matriz de ventas diarias: [[20 15 25 30 18 22 24]\n",
            " [12 20 14  8 15 18 16]\n",
            " [35 28 32 30 26 24 30]\n",
            " [40 38 45 42 39 41 37]]\n",
            "15\n",
            "20\n",
            "28\n",
            "38\n",
            "la suma total del lunes es: 101\n",
            "Total de ventas por día: [107 101 116 110  98 105 107]\n"
          ]
        }
      ],
      "source": [
        "import numpy as np\n",
        "\n",
        "\n",
        "# Datos de ventas diarias de 4 productos durante una semana\n",
        "\n",
        "ventas_diarias = np.array(\n",
        "    #Lun,Mar,Mie,Jue,Vie,Sab,Dom\n",
        "    [[20, 15, 25, 30, 18, 22, 24],  #Producto A\n",
        "    [12, 20, 14, 8, 15, 18, 16],    #Producto B\n",
        "    [35, 28, 32, 30, 26, 24, 30],   #Producto C\n",
        "    [40, 38, 45, 42, 39, 41, 37]    #Producto D\n",
        "    ]\n",
        ")\n",
        "\n",
        "print(\"Matriz de ventas diarias:\",ventas_diarias)\n",
        "\n",
        "#==== FORMAS DE RECORRER UNA MATRIZ FIJADA LA COLUMNA J=1\n",
        "#    Calcula la suma total del dia lunes\n",
        "suma=0\n",
        "for i in range(4):\n",
        "  print(ventas_diarias[i,1])\n",
        "  suma=suma+ventas_diarias[i,1]\n",
        "print('la suma total del lunes es:', suma)\n",
        "\n",
        "#===== IMPLEMENTACIÓN DE UN MÉTODO DE NUMPY\n",
        "# Sumar las ventas por día (sumar las columnas)\n",
        "ventas_por_dia = np.sum(ventas_diarias, axis=0)\n",
        "print(\"Total de ventas por día:\",ventas_por_dia)\n"
      ],
      "id": "djSElJbA4fVb"
    },
    {
      "cell_type": "markdown",
      "source": [
        "**EJERCICIO 2:**\n",
        "\n",
        "Crear un programa donde se le pida al usuario que ingrese la cantidad de elementos de una lista de números reales positivos. Luego Convertir esa lista en un vector de Numpy.\n",
        "\n"
      ],
      "metadata": {
        "id": "CqUA_dCI6FCc"
      },
      "id": "CqUA_dCI6FCc"
    },
    {
      "cell_type": "code",
      "source": [
        "import numpy as np\n",
        "\n",
        "def crearVector():\n",
        "    try:\n",
        "        numeroElementos = int(input(\"Ingresa la cantidad de elementos de la lista: \"))\n",
        "        if numeroElementos <= 0:\n",
        "            print(\"El número de elementos debe ser mayor que cero.\")\n",
        "            return\n",
        "\n",
        "        listaNumeros = []\n",
        "        for i in range(numeroElementos):\n",
        "            numero = float(input(f\"Ingresa el elemento {i+1}: \"))\n",
        "            if numero < 0:\n",
        "                print(\"Los números deben ser 'reales positivos'.\")\n",
        "                return\n",
        "            listaNumeros.append(numero)\n",
        "\n",
        "        vectorNumpy = np.array(listaNumeros)\n",
        "        print(\"Lista de números ingresada:\", listaNumeros)\n",
        "        print(\"Vector NumPy resultante:\", vectorNumpy)\n",
        "\n",
        "    except ValueError:\n",
        "        print(\"Debes ingresar un número válido.\")\n",
        "\n",
        "if __name__ == \"__main__\": crearVector()"
      ],
      "metadata": {
        "colab": {
          "base_uri": "https://localhost:8080/"
        },
        "id": "ubYTrADDcbpQ",
        "outputId": "217ff552-68e7-4055-bad1-d1d6de9a4e10"
      },
      "id": "ubYTrADDcbpQ",
      "execution_count": 3,
      "outputs": [
        {
          "output_type": "stream",
          "name": "stdout",
          "text": [
            "Ingresa la cantidad de elementos de la lista: 2\n",
            "Ingresa el elemento 1: 1\n",
            "Ingresa el elemento 2: 2\n",
            "Lista de números ingresada: [1.0, 2.0]\n",
            "Vector NumPy resultante: [1. 2.]\n"
          ]
        }
      ]
    },
    {
      "cell_type": "markdown",
      "source": [
        "\n",
        "**Ejercicio 3:**\n",
        "\n",
        "Crear un programa donde el usuario ingrese la cantidad de filas y columnas que tendra una tabla de datos. Luego el programa pedira ingresar los datos de la tabla fila por fila. Todos los datos serán numéricos.\n",
        "\n",
        "Mostrar la tabla ingresada en formato LISTA de Python, y mostrar la misma tabla en formato array de Numpy.\n",
        "\n",
        "Solicitar al usuario que ingrese las posiciones de dos filas y realice la suma  de las mismas. Mostrar este vector resultado."
      ],
      "metadata": {
        "id": "ExpBJWL591Yx"
      },
      "id": "ExpBJWL591Yx"
    },
    {
      "cell_type": "code",
      "source": [
        "import numpy as np\n",
        "\n",
        "def crearTabla():\n",
        "    try:\n",
        "        numeroFilas = int(input(\"Ingresa la cantidad de filas de la tabla: \"))\n",
        "        numeroColumnas = int(input(\"Ingresa la cantidad de columnas de la tabla: \"))\n",
        "\n",
        "        # Crea la tabla como una 'lista de listas' (matriz)\n",
        "        tablaLista = []\n",
        "        for i in range(numeroFilas):\n",
        "            fila = []\n",
        "            for j in range(numeroColumnas):\n",
        "                valor = float(input(f\"Ingresa el valor para la fila {i+1} y columna {j+1}: \"))\n",
        "                fila.append(valor)\n",
        "            tablaLista.append(fila)\n",
        "\n",
        "        # Convierte la tabla a un 'array de NumPy'\n",
        "        tablaNumpy = np.array(tablaLista)\n",
        "\n",
        "        # Muestra la tabla en formato 'lista de Python'\n",
        "        print(\"\\nTabla ingresada (formato lista de Python):\")\n",
        "        for fila in tablaLista:\n",
        "            print(fila)\n",
        "\n",
        "        # Muestra la tabla en formato 'array de NumPy'\n",
        "        print(\"\\nTabla ingresada (formato array de NumPy):\")\n",
        "        print(tablaNumpy)\n",
        "\n",
        "        # Realiza la suma de dos filas específicas\n",
        "        fila1 = int(input(\"\\nIngresa el número de fila 1 a sumar: \"))\n",
        "        fila2 = int(input(\"Ingresa el número de fila 2 a sumar: \"))\n",
        "\n",
        "        if fila1 < 1 or fila1 > numeroFilas or fila2 < 1 or fila2 > numeroFilas:\n",
        "            print(\"Filas inválidas. Deben estar en el rango de 1 a\", numeroFilas)\n",
        "        else:\n",
        "            resultadoSuma = tablaNumpy[fila1-1] + tablaNumpy[fila2-1]\n",
        "            print(\"Vector resultado de la suma de las filas:\")\n",
        "            print(resultadoSuma)\n",
        "\n",
        "    except ValueError:\n",
        "        print(\"Debes ingresar un número válido.\")\n",
        "\n",
        "if __name__ == \"__main__\": crearTabla()"
      ],
      "metadata": {
        "colab": {
          "base_uri": "https://localhost:8080/"
        },
        "id": "SuHdpc6-dTx-",
        "outputId": "9edb262f-3ce9-4ce2-8856-541086f5394c"
      },
      "id": "SuHdpc6-dTx-",
      "execution_count": 4,
      "outputs": [
        {
          "output_type": "stream",
          "name": "stdout",
          "text": [
            "Ingresa la cantidad de filas de la tabla: 2\n",
            "Ingresa la cantidad de columnas de la tabla: 2\n",
            "Ingresa el valor para la fila 1 y columna 1: 10\n",
            "Ingresa el valor para la fila 1 y columna 2: 20\n",
            "Ingresa el valor para la fila 2 y columna 1: 30\n",
            "Ingresa el valor para la fila 2 y columna 2: 40\n",
            "\n",
            "Tabla ingresada (formato lista de Python):\n",
            "[10.0, 20.0]\n",
            "[30.0, 40.0]\n",
            "\n",
            "Tabla ingresada (formato array de NumPy):\n",
            "[[10. 20.]\n",
            " [30. 40.]]\n",
            "\n",
            "Ingresa el número de fila 1 a sumar: 2\n",
            "Ingresa el número de fila 2 a sumar: 2\n",
            "Vector resultado de la suma de las filas:\n",
            "[60. 80.]\n"
          ]
        }
      ]
    },
    {
      "cell_type": "markdown",
      "source": [
        "\n",
        "**Ejercicio 4:**\n",
        "\n",
        "\n",
        "A continuación se muestran los valores de  los siguientes productos:\n",
        "\n",
        "['arroz', 'harina','fideo','yerba','azucar']=[145.6 , 100 , 89.90 , 700 , 95]\n",
        "\n",
        "Los valores de estos productos son aproximados de hace dos meses, debido a la inflación y alza de los precios, se vieron afectados de la siguiente manera:\n",
        "*   Producto arroz , harina, azucar duplicaron su precio\n",
        "*   Productos restantes incrementaron en un 75% su precio\n",
        "\n",
        "Mostrar los datos en forma de vector y actualizar sus precios, de manera que se pueda comparar ambos vectores."
      ],
      "metadata": {
        "id": "zOCJT7aV9vZC"
      },
      "id": "zOCJT7aV9vZC"
    },
    {
      "cell_type": "code",
      "source": [
        "import numpy as np\n",
        "\n",
        "def actualizarPrecios():\n",
        "    productos = ['arroz', 'harina', 'fideos', 'yerba', 'azúcar']\n",
        "    preciosOriginales = np.array([145.6, 100, 89.90, 700, 95])\n",
        "\n",
        "    # Se aplica el incremento en los precios\n",
        "    preciosActualizados = np.copy(preciosOriginales)  # Se crea una copia para no modificar el original\n",
        "    preciosActualizados[0:3] *= 2  # Se duplica el precio del arroz, la harina y el azúcar\n",
        "    preciosActualizados[3:] *= 1.75  # Se incrementan en un 75% los precios de la yerba y del fideo\n",
        "\n",
        "    # Se muestran los datos originales y los datos actualizados en forma de vector\n",
        "    print(\"Datos originales:\")\n",
        "    print(\"Productos:\", productos)\n",
        "    print(\"Precios:\", preciosOriginales)\n",
        "\n",
        "    print(\"\\nDatos actualizados:\")\n",
        "    print(\"Productos:\", productos)\n",
        "    print(\"Precios:\", preciosActualizados)\n",
        "\n",
        "if __name__ == \"__main__\": actualizarPrecios()\n"
      ],
      "metadata": {
        "colab": {
          "base_uri": "https://localhost:8080/"
        },
        "id": "ToWM5m2NeVwA",
        "outputId": "a804fe42-5948-4a69-e70d-0266d1e7fe47"
      },
      "id": "ToWM5m2NeVwA",
      "execution_count": 6,
      "outputs": [
        {
          "output_type": "stream",
          "name": "stdout",
          "text": [
            "Datos originales:\n",
            "Productos: ['arroz', 'harina', 'fideos', 'yerba', 'azúcar']\n",
            "Precios: [145.6 100.   89.9 700.   95. ]\n",
            "\n",
            "Datos actualizados:\n",
            "Productos: ['arroz', 'harina', 'fideos', 'yerba', 'azúcar']\n",
            "Precios: [ 291.2   200.    179.8  1225.    166.25]\n"
          ]
        }
      ]
    },
    {
      "cell_type": "markdown",
      "source": [
        "***EJERCICIO 5***\n",
        "\n",
        "Completar la siguiente tabla de comandos y funciones que se utilizarán sobre vectores definidos a través de Numpy\n",
        "\n",
        "|    | Comando | operación y funcionalidad |resultado | ejemplo |\n",
        "|---|    ---   |               ---         |    ---   |    ---  |\n",
        "1   | np.array([lista])|     crea un vector o table con Numpy  |  matriz   |np.array([1.6, 2, 0, 6.75])\n",
        "2   |np.sqrt(vector)|       ***   |  *** |  np.sqrt(vector_np)\n",
        "3   |np.random.rand(n)|     ***   |  *** | np.random.rand(5)\n",
        "4   |np.ones((n))|          ***   |  *** | np.ones((3))\n",
        "5   |np.zeros((n))|         ***   |  *** | np.zeros((3))\n",
        "6   | np.min(array)|        ***   |valor mínimo| np.min(vector_np)\n",
        "7   | np.max(array)|        ***   |valor máximo| np.max(vector_np)\n",
        "8   | np.where(CONDICIÓN SOBRE EL VECTOR)| *** |***|np.where(vector_np>1)\n",
        "9   |np.random.shuffle(MATRIZ)|   ***  | *** | VER EJERCICIO PARTE 2\n",
        "10  |array.shape[n], n=0,1 |   ****   | *** | VER EJERCICIO PARTE 2\n",
        "11  |np.sum(array, axis=n), n=0,1|  ***| *** |VER EJERCICIO PARTE 1\n",
        "12  |np.arange(a, b, p)|  ***  | *** |np.arange(0, 10, 0.1) VER EJERCICIOS PARTE 3\n",
        "\n",
        "\n"
      ],
      "metadata": {
        "id": "zNFELZiHwE4O"
      },
      "id": "zNFELZiHwE4O"
    },
    {
      "cell_type": "markdown",
      "source": [
        "Tabla completada con la descripción de cada comando y función que se utiliza en vectores definidos a través de NumPy:\n",
        "\n",
        "| Comando | Operación y Funcionalidad | Resultado | Ejemplo |\n",
        "|---------|---------------------------|-----------|---------|\n",
        "| 1 | `np.array([lista])` | Crea un vector o matriz con NumPy | `np.array([1.6, 2, 0, 6.75])` |\n",
        "| 2 | `np.sqrt(vector)` | Calcula la raíz cuadrada de cada elemento del vector | `np.sqrt(vector_np)` |\n",
        "| 3 | `np.random.rand(n)` | Genera un vector con `n` números aleatorios entre 0 y 1 | `np.random.rand(5)` |\n",
        "| 4 | `np.ones((n))` | Crea un vector de unos con `n` elementos | `np.ones((3))` |\n",
        "| 5 | `np.zeros((n))` | Crea un vector de ceros con `n` elementos | `np.zeros((3))` |\n",
        "| 6 | `np.min(array)` | Encuentra el valor mínimo en el vector o matriz | `np.min(vector_np)` |\n",
        "| 7 | `np.max(array)` | Encuentra el valor máximo en el vector o matriz | `np.max(vector_np)` |\n",
        "| 8 | `np.where(CONDICIÓN SOBRE EL VECTOR)` | Encuentra los índices donde se cumple la condición dada sobre el vector | `np.where(vector_np > 1)` |\n",
        "| 9 | `np.random.shuffle(MATRIZ)` | Mezcla aleatoriamente las filas de una matriz | `np.random.shuffle(matriz_np)` |\n",
        "| 10 | `array.shape[n]`, n=0,1 | Retorna la forma (número de filas y columnas) de una matriz o vector | `vector_np.shape[0]` (número de filas) |\n",
        "| 11 | `np.sum(array, axis=n)`, n=0,1 | Calcula la suma de elementos en una matriz o vector a lo largo del eje especificado | `np.sum(matriz_np, axis=1)` (suma por filas) |\n",
        "| 12 | `np.arange(a, b, p)` | Genera un vector con valores desde `a` hasta `b` (excluido) con un paso `p` | `np.arange(0, 10, 0.1)` |"
      ],
      "metadata": {
        "id": "1UjlOyXaf6Pl"
      },
      "id": "1UjlOyXaf6Pl"
    },
    {
      "cell_type": "markdown",
      "metadata": {
        "id": "eXzkUDjx-o6u"
      },
      "source": [
        "#  Funciones matemáticas sobre vectores\n",
        "En esta sección, se aplican funciones matemáticas a un vector utilizando Python puro y NumPy. Luego, se imprime el resultado de cada función.\n",
        "\n",
        "**ACLARACIÓN:** Estas funciones utilizan funciones y operaciones elementales matemáticas, sobre cada una de las posiciones del vector. Pero en general, se pueden definir funciones matemáticas que relacionan diferentes posiciones de un vector."
      ],
      "id": "eXzkUDjx-o6u"
    },
    {
      "cell_type": "code",
      "execution_count": null,
      "metadata": {
        "id": "t12Cq_uD-o6u",
        "colab": {
          "base_uri": "https://localhost:8080/"
        },
        "outputId": "c7f45d95-6017-4670-e741-fbe9198296cd"
      },
      "outputs": [
        {
          "output_type": "stream",
          "name": "stdout",
          "text": [
            "Raíz cuadrada en Python puro: [1.0, 1.4142135623730951, 1.7320508075688772, 2.0, 2.23606797749979]\n",
            "Raíz cuadrada en NumPy: [1.         1.41421356 1.73205081 2.         2.23606798]\n",
            "Vector al cuadrado en Python:  [1, 4, 9, 16, 25]\n",
            "logaritmo de un Vector en Python:  [0.0, 0.6931471805599453, 1.0986122886681098, 1.3862943611198906, 1.6094379124341003]\n",
            "logaritmo de un Vector en Numpy:  [0.         0.69314718 1.09861229 1.38629436 1.60943791]\n"
          ]
        }
      ],
      "source": [
        "import math\n",
        "vector_py = [1, 2, 3, 4, 5]\n",
        "vector_np = np.array([1, 2, 3, 4, 5])\n",
        "raiz_cuadrada_py = [math.sqrt(x) for x in vector_py]\n",
        "vector_cuad=[(x**2) for x in vector_np]\n",
        "vector_log=[math.log(x) for x in vector_np]\n",
        "raiz_cuadrada_np = np.sqrt(vector_np)\n",
        "vector_npLog=np.log(vector_np)\n",
        "print(\"Raíz cuadrada en Python puro:\", raiz_cuadrada_py)\n",
        "print(\"Raíz cuadrada en NumPy:\", raiz_cuadrada_np)\n",
        "print('Vector al cuadrado en Python: ',vector_cuad)\n",
        "print('logaritmo de un Vector en Python: ',vector_log)\n",
        "print('logaritmo de un Vector en Numpy: ',vector_npLog)"
      ],
      "id": "t12Cq_uD-o6u"
    },
    {
      "cell_type": "markdown",
      "metadata": {
        "id": "bry8WTMN-o6v"
      },
      "source": [
        "####  Rendimiento\n",
        "En esta celda, se mide el rendimiento de operaciones en un vector utilizando Python puro y NumPy. Se imprime el tiempo de ejecución de cada operación."
      ],
      "id": "bry8WTMN-o6v"
    },
    {
      "cell_type": "code",
      "execution_count": null,
      "metadata": {
        "colab": {
          "base_uri": "https://localhost:8080/"
        },
        "id": "JabuzFhf-o6v",
        "outputId": "992ce8f9-5f23-428a-bb23-c4628ad57694"
      },
      "outputs": [
        {
          "output_type": "stream",
          "name": "stdout",
          "text": [
            "Tiempo en Python puro: 0.14838314056396484 segundos\n",
            "Tiempo en NumPy: 5.1975250244140625e-05 segundos\n"
          ]
        }
      ],
      "source": [
        "import time\n",
        "vector_py = [i for i in range(1000000)]\n",
        "vector_np = np.arange(1000000)\n",
        "\n",
        "start_time = time.time()\n",
        "[x * 2 for x in vector_py]\n",
        "end_time = time.time()\n",
        "print(\"Tiempo en Python puro:\", end_time - start_time, \"segundos\")\n",
        "\n",
        "start_time = time.time()\n",
        "end_time = time.time()\n",
        "print(\"Tiempo en NumPy:\", end_time - start_time, \"segundos\")"
      ],
      "id": "JabuzFhf-o6v"
    },
    {
      "cell_type": "markdown",
      "metadata": {
        "id": "iqiM6a2i-o6x"
      },
      "source": [
        "## Redimensionar un NumPy\n",
        "A continuación se presentan dos ejemplos de redimensionamiento de un NumPy:"
      ],
      "id": "iqiM6a2i-o6x"
    },
    {
      "cell_type": "markdown",
      "metadata": {
        "id": "fkDQpzMo-o6x"
      },
      "source": [
        "#### Redimensionamiento 1\n",
        "En esta celda, se crea un NumPy 'array' y se utiliza la función reshape() de NumPy para redimensionarlo a una forma diferente. Luego, se imprime el nuevo array."
      ],
      "id": "fkDQpzMo-o6x"
    },
    {
      "cell_type": "code",
      "execution_count": null,
      "metadata": {
        "colab": {
          "base_uri": "https://localhost:8080/"
        },
        "id": "zg5ygnQ6-o6x",
        "outputId": "fbf2069d-4f6c-41c1-889a-203cfce97306"
      },
      "outputs": [
        {
          "output_type": "stream",
          "name": "stdout",
          "text": [
            "Nuevo array redimensionado: [[1 2 3]\n",
            " [4 5 6]]\n"
          ]
        }
      ],
      "source": [
        "array = np.array([1, 2, 3, 4, 5, 6])\n",
        "nuevo_array = array.reshape((2, 3))\n",
        "print(\"Nuevo array redimensionado:\", nuevo_array)"
      ],
      "id": "zg5ygnQ6-o6x"
    },
    {
      "cell_type": "markdown",
      "metadata": {
        "id": "2xfwP-s5-o6x"
      },
      "source": [
        "#### Redimensionamiento 2\n",
        "En esta celda, se crea un NumPy 'array' y se utiliza la función np.resize() de NumPy para redimensionarlo a una forma diferente. Luego, se imprime el nuevo array."
      ],
      "id": "2xfwP-s5-o6x"
    },
    {
      "cell_type": "code",
      "execution_count": null,
      "metadata": {
        "colab": {
          "base_uri": "https://localhost:8080/"
        },
        "id": "cNbF-5i3-o6x",
        "outputId": "2fb47753-1cd8-48d8-d2b2-9f00394fbbd0"
      },
      "outputs": [
        {
          "output_type": "stream",
          "name": "stdout",
          "text": [
            "Nuevo array redimensionado: [[1 2 3]\n",
            " [4 5 6]\n",
            " [1 2 3]]\n"
          ]
        }
      ],
      "source": [
        "array = np.array([1, 2, 3, 4, 5, 6])\n",
        "nuevo_array = np.resize(array, (3, 3))\n",
        "print(\"Nuevo array redimensionado:\", nuevo_array)"
      ],
      "id": "cNbF-5i3-o6x"
    },
    {
      "cell_type": "markdown",
      "source": [
        "# ***EJERCICIOS PARTE 2***\n",
        "\n",
        "**Ejercicio 1:**\n",
        "\n",
        "Dado una matriz de datos, dividir el 70% de filas en un array_entrenamiento y el otro 30% en otro array_testeo. Esta distribución de filas de la matriz inicial, debe ser aleatoria. Mostrar las matrices al ser modificadas por el comando np.random.shuffle('matriz'). Finalmente mostrar los array_entrenamiento y array_testeo."
      ],
      "metadata": {
        "id": "2hHxd6eg6w1u"
      },
      "id": "2hHxd6eg6w1u"
    },
    {
      "cell_type": "code",
      "source": [
        "dataset = np.array([[25, 1, 7, 100, 1],\n",
        "                    [30, 2, 5, 120, 0],\n",
        "                    [22, 1, 6, 80, 1],\n",
        "                    [28, 1, 6, 90, 0],\n",
        "                    [35, 2, 4, 130, 1],\n",
        "                    [32, 2, 6, 110, 1],\n",
        "                    [26, 1, 8, 95, 1],\n",
        "                    [24, 1, 5, 85, 0],\n",
        "                    [29, 2, 7, 115, 1],\n",
        "                    [31, 2, 6, 105, 0]])\n",
        "\n",
        "# Mezclar las filas de la matriz para obtener una distribución aleatoria de los datos\n",
        "np.random.shuffle(dataset)\n",
        "print( dataset)\n"
      ],
      "metadata": {
        "colab": {
          "base_uri": "https://localhost:8080/"
        },
        "id": "pzZwS3lF6M-6",
        "outputId": "e9c92fe9-dd99-4b8c-a4ef-f8c466d26850"
      },
      "execution_count": null,
      "outputs": [
        {
          "output_type": "stream",
          "name": "stdout",
          "text": [
            "[[ 22   1   6  80   1]\n",
            " [ 29   2   7 115   1]\n",
            " [ 28   1   6  90   0]\n",
            " [ 26   1   8  95   1]\n",
            " [ 25   1   7 100   1]\n",
            " [ 31   2   6 105   0]\n",
            " [ 35   2   4 130   1]\n",
            " [ 30   2   5 120   0]\n",
            " [ 24   1   5  85   0]\n",
            " [ 32   2   6 110   1]]\n"
          ]
        }
      ],
      "id": "pzZwS3lF6M-6"
    },
    {
      "cell_type": "markdown",
      "source": [
        "**Ejercicio 2:**\n",
        "\n",
        "Dado la siguiente tabla de datos poblaciones de las Provincias de Argentina (Ejercicio 10 del Práctico 1), Realizar el siguiente analisis.\n",
        "\n",
        "\n",
        "\n",
        "*   indicar la cantidad de filas y columnas que posee la tabla de datos.\n",
        "*   Mostrar toda la información de la provincia con Mayor Cantidad de habitantes. AYUDA: usar la función np.max(array)\n",
        "*   Agregar a la tabla de datos una fila al final , indicando los totales de cada columna. Mostrar el resultado de la nueva tabla.\n",
        "\n"
      ],
      "metadata": {
        "id": "9WqSL4cG7LhH"
      },
      "id": "9WqSL4cG7LhH"
    },
    {
      "cell_type": "code",
      "source": [
        "poblacionArgentina1=[\n",
        "    ['PROVINCIA','CANTIDAD DE HABITANTES','CONSUMO EN MWH','SUPERFICIE EN KM^2'],\n",
        "    ['Buenos Aires','17.569.053',' 16543722',' 305907'],\n",
        "    ['Córdoba','3.978.984',' 10606601','164708'],\n",
        "    ['Santa Fe','3.556.522',' 13078203',' 133249'],\n",
        "    ['Ciudad Autónoma de Buenos Aires','3.120.612','51712507',' 201'],\n",
        "    ['Mendoza','2.014.533',' 5652519',' 149069'],\n",
        "    ['Tucumán','1.703.186','3208711','22.524'],\n",
        "    ['Salta','1.440.672',' 2214796',' 155341'],\n",
        "    ['Entre Ríos','1.426.426','3906353','78384'],\n",
        "    ['Misiones','1.280.960','2845762',' 29911'],\n",
        "    ['Corrientes','1.197.553','2997612',' 89123'],\n",
        "    ['Chaco','1.142.963','3045380',' 99763'],\n",
        "    ['Santiago del Estero','1.054.028',' 1811277',' 136934'],\n",
        "    ['San Juan','818.234',' 2381940',' 88296'],\n",
        "   ['Jujuy','797.955',' 1136336',' 53244'],\n",
        "   ['Río Negro','762.067',' 1984782','202169'],\n",
        "   ['Neuquén','726.590','1834879',' 94422'],\n",
        "   ['Formosa','606.041',' 1388311','75488'],\n",
        "   ['Chubut','603.120','1646029',' 224302'],\n",
        "   ['San Luis','540.905',' 1780881','75347'],\n",
        "   ['Catamarca','429.556',' 1337032','101486'],\n",
        "   ['La Rioja','384.607','1572290',' 91494'],\n",
        "   ['La Pampa','366.022','915781',' 143493'],\n",
        "   ['Santa Cruz','333.473',' 1025648',' 244458'],\n",
        "   ['Tierra del Fuego, Antártida e Islas del Atlántico Sur','190.641',' s/d ',' 37131']]\n",
        "\n",
        "poblacionArgentina=np.array(poblacionArgentina1)\n",
        "\n",
        "print(poblacionArgentina)"
      ],
      "metadata": {
        "colab": {
          "base_uri": "https://localhost:8080/"
        },
        "id": "5h1AALwz8Eqo",
        "outputId": "6440fe44-e762-48a8-d42f-f4994b6d3de1"
      },
      "id": "5h1AALwz8Eqo",
      "execution_count": null,
      "outputs": [
        {
          "output_type": "stream",
          "name": "stdout",
          "text": [
            "[['PROVINCIA' 'CANTIDAD DE HABITANTES' 'CONSUMO EN MWH'\n",
            "  'SUPERFICIE EN KM^2']\n",
            " ['Buenos Aires' '17.569.053' ' 16543722' ' 305907']\n",
            " ['Córdoba' '3.978.984' ' 10606601' '164708']\n",
            " ['Santa Fe' '3.556.522' ' 13078203' ' 133249']\n",
            " ['Ciudad Autónoma de Buenos Aires' '3.120.612' '51712507' ' 201']\n",
            " ['Mendoza' '2.014.533' ' 5652519' ' 149069']\n",
            " ['Tucumán' '1.703.186' '3208711' '22.524']\n",
            " ['Salta' '1.440.672' ' 2214796' ' 155341']\n",
            " ['Entre Ríos' '1.426.426' '3906353' '78384']\n",
            " ['Misiones' '1.280.960' '2845762' ' 29911']\n",
            " ['Corrientes' '1.197.553' '2997612' ' 89123']\n",
            " ['Chaco' '1.142.963' '3045380' ' 99763']\n",
            " ['Santiago del Estero' '1.054.028' ' 1811277' ' 136934']\n",
            " ['San Juan' '818.234' ' 2381940' ' 88296']\n",
            " ['Jujuy' '797.955' ' 1136336' ' 53244']\n",
            " ['Río Negro' '762.067' ' 1984782' '202169']\n",
            " ['Neuquén' '726.590' '1834879' ' 94422']\n",
            " ['Formosa' '606.041' ' 1388311' '75488']\n",
            " ['Chubut' '603.120' '1646029' ' 224302']\n",
            " ['San Luis' '540.905' ' 1780881' '75347']\n",
            " ['Catamarca' '429.556' ' 1337032' '101486']\n",
            " ['La Rioja' '384.607' '1572290' ' 91494']\n",
            " ['La Pampa' '366.022' '915781' ' 143493']\n",
            " ['Santa Cruz' '333.473' ' 1025648' ' 244458']\n",
            " ['Tierra del Fuego, Antártida e Islas del Atlántico Sur' '190.641'\n",
            "  ' s/d ' ' 37131']]\n"
          ]
        }
      ]
    },
    {
      "cell_type": "code",
      "source": [
        "import numpy as np\n",
        "\n",
        "poblacionArgentina1 = [\n",
        "    ['PROVINCIA','CANTIDAD DE HABITANTES','CONSUMO EN MWH','SUPERFICIE EN KM^2'],\n",
        "    ['Buenos Aires','17.569.053',' 16543722',' 305907'],\n",
        "    ['Córdoba','3.978.984',' 10606601','164708'],\n",
        "    ['Santa Fe','3.556.522',' 13078203',' 133249'],\n",
        "    ['Ciudad Autónoma de Buenos Aires','3.120.612','51712507',' 201'],\n",
        "    ['Mendoza','2.014.533',' 5652519',' 149069'],\n",
        "    ['Tucumán','1.703.186','3208711','22.524'],\n",
        "    ['Salta','1.440.672',' 2214796',' 155341'],\n",
        "    ['Entre Ríos','1.426.426','3906353','78384'],\n",
        "    ['Misiones','1.280.960','2845762',' 29911'],\n",
        "    ['Corrientes','1.197.553','2997612',' 89123'],\n",
        "    ['Chaco','1.142.963','3045380',' 99763'],\n",
        "    ['Santiago del Estero','1.054.028',' 1811277',' 136934'],\n",
        "    ['San Juan','818.234',' 2381940',' 88296'],\n",
        "    ['Jujuy','797.955',' 1136336',' 53244'],\n",
        "    ['Río Negro','762.067',' 1984782','202169'],\n",
        "    ['Neuquén','726.590','1834879',' 94422'],\n",
        "    ['Formosa','606.041',' 1388311','75488'],\n",
        "    ['Chubut','603.120','1646029',' 224302'],\n",
        "    ['San Luis','540.905',' 1780881','75347'],\n",
        "    ['Catamarca','429.556',' 1337032','101486'],\n",
        "    ['La Rioja','384.607','1572290',' 91494'],\n",
        "    ['La Pampa','366.022','915781',' 143493'],\n",
        "    ['Santa Cruz','333.473',' 1025648',' 244458'],\n",
        "    ['Tierra del Fuego, Antártida e Islas del Atlántico Sur','190.641',' s/d ',' 37131']\n",
        "]\n",
        "\n",
        "# Se convierte la tabla de datos a un array de NumPy\n",
        "tablaNP = np.array(poblacionArgentina1[1:], dtype=object)\n",
        "\n",
        "# 1. Cantidad de filas y columnas de la tabla de datos\n",
        "numeroFilas, numeroColumnas = tablaNP.shape\n",
        "\n",
        "print(f\"La tabla de datos tiene {numeroFilas} filas y {numeroColumnas} columnas.\\n\")\n",
        "\n",
        "# 2. Información de la provincia con Mayor Cantidad de habitantes\n",
        "# Se limpian los valores de la columna \"CANTIDAD DE HABITANTES\" y se convierte a enteros\n",
        "habitantes = np.array([int(h.replace('.', '').replace('s/d', '0')) for h in tablaNP[:, 1]])\n",
        "\n",
        "# Encontrar el índice de la fila con el valor máximo en la columna de \"CANTIDAD DE HABITANTES\"\n",
        "indiceMaxHabitantes = np.argmax(habitantes)\n",
        "provinciaMaxHabitantes = tablaNP[indiceMaxHabitantes, 0]\n",
        "\n",
        "print(\"Información de la provincia con Mayor Cantidad de habitantes:\")\n",
        "print(tablaNP[indiceMaxHabitantes], \"\\n\")\n",
        "\n",
        "# 3. Agregar una fila con los totales de cada columna\n",
        "# Se convierten las columnas numéricas a enteros o flotantes para realizar la suma\n",
        "consumoMWH = np.array([int(c.replace('s/d', '0')) for c in tablaNP[:, 2]])\n",
        "superficieKM2 = np.array([int(s.replace('.', '')) for s in tablaNP[:, 3]])\n",
        "\n",
        "# Se calculan los totales de cada columna y se crea una nueva fila con esos \"totales\"\n",
        "filaTotales = [\"Totales\", f\"{np.sum(habitantes):,}\", f\"{np.sum(consumoMWH):,}\", f\"{np.sum(superficieKM2):,}\"]\n",
        "\n",
        "# Se agrega la fila de totales a la tabla\n",
        "tablaNP = np.vstack([tablaNP, filaTotales])\n",
        "\n",
        "# Finalmente se muestran en la nueva tabla con la fila de totales\n",
        "print(\"Tabla de datos con la fila de totales:\")\n",
        "for fila in tablaNP:\n",
        "    print(fila)"
      ],
      "metadata": {
        "colab": {
          "base_uri": "https://localhost:8080/"
        },
        "id": "wJZ2FbHfh26A",
        "outputId": "7c57ee20-acc9-4157-8a11-a933c7db98aa"
      },
      "id": "wJZ2FbHfh26A",
      "execution_count": 7,
      "outputs": [
        {
          "output_type": "stream",
          "name": "stdout",
          "text": [
            "La tabla de datos tiene 24 filas y 4 columnas.\n",
            "\n",
            "Información de la provincia con Mayor Cantidad de habitantes:\n",
            "['Buenos Aires' '17.569.053' ' 16543722' ' 305907'] \n",
            "\n",
            "Tabla de datos con la fila de totales:\n",
            "['Buenos Aires' '17.569.053' ' 16543722' ' 305907']\n",
            "['Córdoba' '3.978.984' ' 10606601' '164708']\n",
            "['Santa Fe' '3.556.522' ' 13078203' ' 133249']\n",
            "['Ciudad Autónoma de Buenos Aires' '3.120.612' '51712507' ' 201']\n",
            "['Mendoza' '2.014.533' ' 5652519' ' 149069']\n",
            "['Tucumán' '1.703.186' '3208711' '22.524']\n",
            "['Salta' '1.440.672' ' 2214796' ' 155341']\n",
            "['Entre Ríos' '1.426.426' '3906353' '78384']\n",
            "['Misiones' '1.280.960' '2845762' ' 29911']\n",
            "['Corrientes' '1.197.553' '2997612' ' 89123']\n",
            "['Chaco' '1.142.963' '3045380' ' 99763']\n",
            "['Santiago del Estero' '1.054.028' ' 1811277' ' 136934']\n",
            "['San Juan' '818.234' ' 2381940' ' 88296']\n",
            "['Jujuy' '797.955' ' 1136336' ' 53244']\n",
            "['Río Negro' '762.067' ' 1984782' '202169']\n",
            "['Neuquén' '726.590' '1834879' ' 94422']\n",
            "['Formosa' '606.041' ' 1388311' '75488']\n",
            "['Chubut' '603.120' '1646029' ' 224302']\n",
            "['San Luis' '540.905' ' 1780881' '75347']\n",
            "['Catamarca' '429.556' ' 1337032' '101486']\n",
            "['La Rioja' '384.607' '1572290' ' 91494']\n",
            "['La Pampa' '366.022' '915781' ' 143493']\n",
            "['Santa Cruz' '333.473' ' 1025648' ' 244458']\n",
            "['Tierra del Fuego, Antártida e Islas del Atlántico Sur' '190.641' ' s/d '\n",
            " ' 37131']\n",
            "['Totales' '46,044,703' '134,627,352' '2,796,444']\n"
          ]
        }
      ]
    },
    {
      "cell_type": "markdown",
      "metadata": {
        "id": "lQwZW6nj-o67"
      },
      "source": [
        "# Ploteo de datos con Matplotlib\n",
        "A continuación se presentan ejemplos de diferentes tipos de gráficos utilizando Matplotlib:"
      ],
      "id": "lQwZW6nj-o67"
    },
    {
      "cell_type": "markdown",
      "metadata": {
        "id": "W6xs2svw-o67"
      },
      "source": [
        "## Gráfica de funciones matemáticas elementales\n",
        "En esta celda, se crea un array 'x' con valores en el rango de 0 a 10 y se utiliza la función np.sin() y np.cos() de NumPy para calcular el seno y coseno de cada valor en 'x'. Luego, se utiliza la biblioteca Matplotlib para trazar un gráfico de línea con 'x' en el eje x y 'y' en el eje y. También se agrega etiquetas y un título al gráfico."
      ],
      "id": "W6xs2svw-o67"
    },
    {
      "cell_type": "code",
      "execution_count": null,
      "metadata": {
        "colab": {
          "base_uri": "https://localhost:8080/",
          "height": 472
        },
        "id": "GQGdYmNN-o67",
        "outputId": "24dc8ad9-fd16-4d13-ceb2-b1f5ee769fe4"
      },
      "outputs": [
        {
          "output_type": "display_data",
          "data": {
            "text/plain": [
              "<Figure size 640x480 with 1 Axes>"
            ],
            "image/png": "[encoded data removed]"
          },
          "metadata": {}
        }
      ],
      "source": [
        "import matplotlib.pyplot as plt\n",
        "\n",
        "x = np.arange(0, 10, 0.1)\n",
        "y = np.cos(x)\n",
        "\n",
        "plt.plot(x, y)\n",
        "plt.xlabel('x')\n",
        "plt.ylabel('y')\n",
        "plt.title('Gráfico de línea')\n",
        "plt.show()"
      ],
      "id": "GQGdYmNN-o67"
    },
    {
      "cell_type": "markdown",
      "source": [
        "# ***EJERCICIOS PARTE 3***\n",
        "\n",
        "Realizar las gráficas de als siguientes expresiones matemáticas. Determinar el dominio del eje x adecuado para plotear las funciones de manera que se visualice su comportamiento.\n",
        "\n",
        "\n",
        "*  $ y= 3x -2$\n",
        "*   $y= 2x^2+4x+2 $\n",
        "*   $y= \\vert x\\vert= \\begin{cases}-x & x < 0 \\\\ x & x\\ge 0                       \\end{cases}$\n",
        "*   $y= 1/x$\n",
        "*   $y=\\sqrt x$\n",
        "\n",
        "\n"
      ],
      "metadata": {
        "id": "Q0dztL-66aVb"
      },
      "id": "Q0dztL-66aVb"
    },
    {
      "cell_type": "code",
      "source": [
        "import numpy as np\n",
        "import matplotlib.pyplot as plt\n",
        "\n",
        "# FUNCIONES:\n",
        "#1\n",
        "def funcionLineal(x):\n",
        "    return 3 * x - 2\n",
        "#2\n",
        "def funcionCuadratica(x):\n",
        "    return 2 * x**2 + 4 * x + 2\n",
        "#3\n",
        "def funcionAbsoluta(x):\n",
        "    return np.abs(x)\n",
        "#4\n",
        "def funcionReciproca(x):\n",
        "    return 1 / x\n",
        "#5\n",
        "def funcionRaizCuadrada(x):\n",
        "    return np.sqrt(x) if x >= 0 else np.nan\n",
        "\n",
        "# Generación de los datos y los gráficos:\n",
        "x = np.linspace(-10, 10, 100)\n",
        "\n",
        "plt.figure(figsize=(12, 8))\n",
        "\n",
        "# Gráfico 1 - Función Lineal: y = 3x - 2\n",
        "plt.subplot(231)\n",
        "plt.plot(x, funcionLineal(x))\n",
        "plt.title(\"Función Lineal: y = 3x - 2\")\n",
        "plt.grid()\n",
        "\n",
        "# Gráfico 2 - Función Cuadrática: y = 2x^2 + 4x + 2\n",
        "plt.subplot(232)\n",
        "plt.plot(x, funcionCuadratica(x))\n",
        "plt.title(\"Función Cuadrática: y = 2x^2 + 4x + 2\")\n",
        "plt.grid()\n",
        "\n",
        "# Gráfico 3 - Función Absoluta: y = |x|\n",
        "plt.subplot(233)\n",
        "plt.plot(x, funcionAbsoluta(x))\n",
        "plt.title(\"Función Absoluta: y = |x|\")\n",
        "plt.grid()\n",
        "\n",
        "# Gráfico 4 - Función Recíproca: y = 1/x\n",
        "plt.subplot(234)\n",
        "plt.plot(x, funcionReciproca(x))\n",
        "plt.title(\"Función Recíproca: y = 1/x\")\n",
        "plt.ylim(-10, 10)\n",
        "plt.grid()\n",
        "\n",
        "# Gráfico 5 - Función Raíz Cuadrada: y = √x\n",
        "plt.subplot(235)\n",
        "plt.plot(x, [funcionRaizCuadrada(xi) for xi in x])\n",
        "plt.title(\"Función Raíz Cuadrada: y = √x\")\n",
        "plt.grid()\n",
        "\n",
        "plt.tight_layout()\n",
        "plt.show()"
      ],
      "metadata": {
        "colab": {
          "base_uri": "https://localhost:8080/",
          "height": 807
        },
        "id": "_M8PvPQNlUJO",
        "outputId": "3067b3ad-8957-4994-f48f-0c5d6fdaeebe"
      },
      "id": "_M8PvPQNlUJO",
      "execution_count": 30,
      "outputs": [
        {
          "output_type": "display_data",
          "data": {
            "text/plain": [
              "<Figure size 1200x800 with 5 Axes>"
            ],
            "image/png": "[encoded data removed]"
          },
          "metadata": {}
        }
      ]
    }
  ],
  "metadata": {
    "kernelspec": {
      "display_name": "Python 3",
      "language": "python",
      "name": "python3"
    },
    "language_info": {
      "codemirror_mode": {
        "name": "ipython",
        "version": 3
      },
      "file_extension": ".py",
      "mimetype": "text/x-python",
      "name": "python",
      "nbconvert_exporter": "python",
      "pygments_lexer": "ipython3",
      "version": "3.11.1"
    },
    "colab": {
      "provenance": [],
      "include_colab_link": true
    }
  },
  "nbformat": 4,
  "nbformat_minor": 5
}